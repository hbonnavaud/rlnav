{
 "cells": [
  {
   "metadata": {},
   "cell_type": "markdown",
   "source": "",
   "id": "ca71a9e4972470f3"
  },
  {
   "metadata": {
    "ExecuteTime": {
     "end_time": "2025-03-19T08:47:40.693686Z",
     "start_time": "2025-03-19T08:47:40.578810Z"
    }
   },
   "cell_type": "code",
   "source": [
    "import rlnav\n",
    "import os\n",
    "import gymnasium as gym\n",
    "import imageio\n",
    "import importlib\n",
    "import numpy as np\n",
    "from rlnav import Poi\n",
    "import matplotlib.pyplot as plt\n",
    "\n",
    "# Create environment\n",
    "env = Poin(goal_conditioned=True)\n",
    "plt.imshow(env.render())\n"
   ],
   "id": "7519c846c8be5566",
   "outputs": [
    {
     "data": {
      "text/plain": [
       "<matplotlib.image.AxesImage at 0x7fd95482d790>"
      ]
     },
     "execution_count": 10,
     "metadata": {},
     "output_type": "execute_result"
    },
    {
     "data": {
      "text/plain": [
       "<Figure size 640x480 with 1 Axes>"
      ],
      "image/png": "[encoded data removed]"
     },
     "metadata": {},
     "output_type": "display_data"
    }
   ],
   "execution_count": 10
  },
  {
   "metadata": {},
   "cell_type": "markdown",
   "source": "### Run a random policy inside it, save images at each state, and show the video",
   "id": "e930069c4ca625cf"
  },
  {
   "metadata": {
    "ExecuteTime": {
     "end_time": "2025-03-19T08:50:03.471912Z",
     "start_time": "2025-03-19T08:50:03.426333Z"
    }
   },
   "cell_type": "code",
   "source": [
    "import shutil\n",
    "import pathlib\n",
    "import cv2\n",
    "from typing import Union\n",
    "\n",
    "\n",
    "\n",
    "def create_dir(directory_name: str, replace=False):\n",
    "\n",
    "    directory_path = os.path.abspath(directory_name)\n",
    "    directory_path += os.path.sep\n",
    "\n",
    "    if os.path.isdir(directory_path):\n",
    "        # Directory already exists\n",
    "        if replace:\n",
    "            shutil.rmtree(directory_path)\n",
    "        else:\n",
    "            return\n",
    "\n",
    "    dir_parts = directory_path.split(os.sep)\n",
    "    directory_to_create = \"\"\n",
    "    for part in dir_parts:\n",
    "        directory_to_create += part + os.sep\n",
    "        if not os.path.isdir(directory_to_create):\n",
    "            try:\n",
    "                os.mkdir(directory_to_create)\n",
    "            except FileNotFoundError:\n",
    "                print(\"failed to create dir \" + str(directory_to_create))\n",
    "                raise Exception\n",
    "\n",
    "\n",
    "def generate_video(images, output_directory: Union[str, pathlib.PosixPath] = pathlib.Path('.').absolute(), filename: str = \"generated_video.mp4\", convert_to_bgr=True):\n",
    "    \"\"\"\n",
    "    generate a video from the given list of images, and save them at location output_directory/filename.mp4.\n",
    "    @param images: List of images as numpy array of pixels. For each image, the expected shape is width * height * 3.\n",
    "        images[n][-1] is expected to be a list of rgb pixels. But BGR pixels are accepted if convert_to_bgr is set to\n",
    "        false.\n",
    "    @param output_directory: A path. A '/' is added at the end if there's none in the given path.\n",
    "    @param filename: a filename. Should not contain \"/\" characters or '.' except for the extension. If no '.' is found\n",
    "        (aka no extension) a \".mp4\" is added at the end.\n",
    "    @param convert_to_bgr: (boolean) If True (default value), the colors are considered as RGB and are converted to BGR\n",
    "        (which is the default opencv standard, don't ask me why).\n",
    "    \"\"\"\n",
    "    if isinstance(output_directory, pathlib.PosixPath):\n",
    "        output_directory = str(output_directory.absolute())\n",
    "    directory_path = os.path.abspath(output_directory)\n",
    "    directory_path += os.path.sep\n",
    "\n",
    "    # Convert image colors\n",
    "    if convert_to_bgr:\n",
    "        images = [cv2.cvtColor(img.astype(np.uint8), cv2.COLOR_RGB2BGR) for img in images]\n",
    "\n",
    "    if output_directory[-1] != os.sep:\n",
    "        output_directory += os.sep\n",
    "\n",
    "    # Verify filename\n",
    "    if len(filename) < 4 or filename[-4:] != \".mp4\":\n",
    "        filename += \".mp4\"\n",
    "    assert len(filename.split(\".\")) == 2\n",
    "\n",
    "    create_dir(output_directory)\n",
    "    fourcc = cv2.VideoWriter_fourcc(*'mp4v')\n",
    "    height, width, channels = images[0].shape\n",
    "    fps = 30\n",
    "\n",
    "    out = cv2.VideoWriter(output_directory + filename, fourcc, fps, (width, height))\n",
    "    for image_data in images:\n",
    "        image_data = image_data.astype(np.uint8)\n",
    "        out.write(image_data)\n",
    "    out.release()\n",
    "\n",
    "\n",
    "frames = []\n",
    "done = False\n",
    "obs, _ = env.reset()\n",
    "while not done:\n",
    "    action = env.action_space.sample()  # Select a random action\n",
    "    obs, reward, done, _, _ = env.step(action)\n",
    "\n",
    "    # Render and save frame\n",
    "    frame = env.render()\n",
    "    frames.append(frame)\n",
    "\n",
    "# Save video\n",
    "generate_video(frames, filename=\"random_policy.mp4\")"
   ],
   "id": "aead8cb9011227ed",
   "outputs": [
    {
     "name": "stdout",
     "output_type": "stream",
     "text": [
      "/home/hedwin/computing/projects/NavigationRLEnvironments/test_notebooks/random_policy.mp4\n"
     ]
    },
    {
     "ename": "TypeError",
     "evalue": "a bytes-like object is required, not 'NoneType'",
     "output_type": "error",
     "traceback": [
      "\u001B[0;31m---------------------------------------------------------------------------\u001B[0m",
      "\u001B[0;31mTypeError\u001B[0m                                 Traceback (most recent call last)",
      "File \u001B[0;32m~/computing/home_venv/lib/python3.11/site-packages/IPython/core/formatters.py:406\u001B[0m, in \u001B[0;36mBaseFormatter.__call__\u001B[0;34m(self, obj)\u001B[0m\n\u001B[1;32m    404\u001B[0m     method \u001B[38;5;241m=\u001B[39m get_real_method(obj, \u001B[38;5;28mself\u001B[39m\u001B[38;5;241m.\u001B[39mprint_method)\n\u001B[1;32m    405\u001B[0m     \u001B[38;5;28;01mif\u001B[39;00m method \u001B[38;5;129;01mis\u001B[39;00m \u001B[38;5;129;01mnot\u001B[39;00m \u001B[38;5;28;01mNone\u001B[39;00m:\n\u001B[0;32m--> 406\u001B[0m         \u001B[38;5;28;01mreturn\u001B[39;00m \u001B[43mmethod\u001B[49m\u001B[43m(\u001B[49m\u001B[43m)\u001B[49m\n\u001B[1;32m    407\u001B[0m     \u001B[38;5;28;01mreturn\u001B[39;00m \u001B[38;5;28;01mNone\u001B[39;00m\n\u001B[1;32m    408\u001B[0m \u001B[38;5;28;01melse\u001B[39;00m:\n",
      "File \u001B[0;32m~/computing/home_venv/lib/python3.11/site-packages/IPython/core/display.py:1284\u001B[0m, in \u001B[0;36mVideo._repr_html_\u001B[0;34m(self)\u001B[0m\n\u001B[1;32m   1282\u001B[0m            b64_video \u001B[38;5;241m=\u001B[39m video\n\u001B[1;32m   1283\u001B[0m        \u001B[38;5;28;01melse\u001B[39;00m:\n\u001B[0;32m-> 1284\u001B[0m            b64_video \u001B[38;5;241m=\u001B[39m \u001B[43mb2a_base64\u001B[49m\u001B[43m(\u001B[49m\u001B[43mvideo\u001B[49m\u001B[43m,\u001B[49m\u001B[43m \u001B[49m\u001B[43mnewline\u001B[49m\u001B[38;5;241;43m=\u001B[39;49m\u001B[38;5;28;43;01mFalse\u001B[39;49;00m\u001B[43m)\u001B[49m\u001B[38;5;241m.\u001B[39mdecode(\u001B[38;5;124m\"\u001B[39m\u001B[38;5;124mascii\u001B[39m\u001B[38;5;124m\"\u001B[39m)\u001B[38;5;241m.\u001B[39mrstrip()\n\u001B[1;32m   1286\u001B[0m        output \u001B[38;5;241m=\u001B[39m \u001B[38;5;124m\"\"\"\u001B[39m\u001B[38;5;124m<video \u001B[39m\u001B[38;5;132;01m{0}\u001B[39;00m\u001B[38;5;124m \u001B[39m\u001B[38;5;132;01m{1}\u001B[39;00m\u001B[38;5;124m \u001B[39m\u001B[38;5;132;01m{2}\u001B[39;00m\u001B[38;5;124m>\u001B[39m\n\u001B[1;32m   1287\u001B[0m \u001B[38;5;124m<source src=\u001B[39m\u001B[38;5;124m\"\u001B[39m\u001B[38;5;124mdata:\u001B[39m\u001B[38;5;132;01m{3}\u001B[39;00m\u001B[38;5;124m;base64,\u001B[39m\u001B[38;5;132;01m{4}\u001B[39;00m\u001B[38;5;124m\"\u001B[39m\u001B[38;5;124m type=\u001B[39m\u001B[38;5;124m\"\u001B[39m\u001B[38;5;132;01m{3}\u001B[39;00m\u001B[38;5;124m\"\u001B[39m\u001B[38;5;124m>\u001B[39m\n\u001B[1;32m   1288\u001B[0m \u001B[38;5;124mYour browser does not support the video tag.\u001B[39m\n\u001B[1;32m   1289\u001B[0m \u001B[38;5;124m</video>\u001B[39m\u001B[38;5;124m\"\"\"\u001B[39m\u001B[38;5;241m.\u001B[39mformat(\u001B[38;5;28mself\u001B[39m\u001B[38;5;241m.\u001B[39mhtml_attributes, width, height, mimetype, b64_video)\n\u001B[1;32m   1290\u001B[0m        \u001B[38;5;28;01mreturn\u001B[39;00m output\n",
      "\u001B[0;31mTypeError\u001B[0m: a bytes-like object is required, not 'NoneType'"
     ]
    },
    {
     "data": {
      "text/plain": [
       "<IPython.core.display.Video object>"
      ]
     },
     "execution_count": 15,
     "metadata": {},
     "output_type": "execute_result"
    }
   ],
   "execution_count": 15
  },
  {
   "metadata": {},
   "cell_type": "markdown",
   "source": "### Try the same with goal-conditioned settings",
   "id": "ba9b4f250f9bfc3c"
  },
  {
   "metadata": {},
   "cell_type": "code",
   "outputs": [],
   "execution_count": null,
   "source": [
    "env = GridWorld(goal_conditioned=True)\n",
    "env.reset()\n",
    "env.render()\n",
    "\n",
    "frames = []\n",
    "done = False\n",
    "obs, _ = env.reset()\n",
    "while not done:\n",
    "    action = env.action_space.sample()\n",
    "    obs, reward, done, _, _ = env.step(action)\n",
    "\n",
    "    frame = env.render()\n",
    "    frames.append(frame)\n",
    "\n",
    "video_path = \"goal_conditioned_policy.mp4\"\n",
    "imageio.mimsave(video_path, frames, fps=5)\n",
    "Video(video_path)"
   ],
   "id": "4e52bbddbbaf770b"
  }
 ],
 "metadata": {
  "kernelspec": {
   "display_name": "Python 3",
   "language": "python",
   "name": "python3"
  },
  "language_info": {
   "codemirror_mode": {
    "name": "ipython",
    "version": 2
   },
   "file_extension": ".py",
   "mimetype": "text/x-python",
   "name": "python",
   "nbconvert_exporter": "python",
   "pygments_lexer": "ipython2",
   "version": "2.7.6"
  }
 },
 "nbformat": 4,
 "nbformat_minor": 5
}
